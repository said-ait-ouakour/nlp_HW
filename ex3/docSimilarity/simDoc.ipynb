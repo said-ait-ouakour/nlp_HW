{
  "cells": [
    {
      "attachments": {},
      "cell_type": "markdown",
      "metadata": {
        "id": "q0UXIydxd8XC"
      },
      "source": [
        "#### Similarity between 2 documents with wordnet"
      ]
    },
    {
      "cell_type": "code",
      "execution_count": 1,
      "metadata": {
        "colab": {
          "base_uri": "https://localhost:8080/"
        },
        "id": "qS547Ynhs8z3",
        "outputId": "99dec5b7-ddd4-4d2b-f333-8ad3436956fc"
      },
      "outputs": [
        {
          "name": "stderr",
          "output_type": "stream",
          "text": [
            "[nltk_data] Downloading package wordnet to\n",
            "[nltk_data]     C:\\Users\\lenovo\\AppData\\Roaming\\nltk_data...\n",
            "[nltk_data]   Package wordnet is already up-to-date!\n",
            "[nltk_data] Downloading package punkt to\n",
            "[nltk_data]     C:\\Users\\lenovo\\AppData\\Roaming\\nltk_data...\n",
            "[nltk_data]   Package punkt is already up-to-date!\n",
            "[nltk_data] Downloading package averaged_perceptron_tagger to\n",
            "[nltk_data]     C:\\Users\\lenovo\\AppData\\Roaming\\nltk_data...\n",
            "[nltk_data]   Package averaged_perceptron_tagger is already up-to-\n",
            "[nltk_data]       date!\n"
          ]
        },
        {
          "data": {
            "text/plain": [
              "True"
            ]
          },
          "execution_count": 1,
          "metadata": {},
          "output_type": "execute_result"
        }
      ],
      "source": [
        "import nltk\n",
        "nltk.download('wordnet')\n",
        "nltk.download('punkt')\n",
        "nltk.download('averaged_perceptron_tagger')"
      ]
    },
    {
      "cell_type": "code",
      "execution_count": 2,
      "metadata": {
        "id": "gVilzx1ss859"
      },
      "outputs": [],
      "source": [
        "import nltk\n",
        "from nltk.corpus import wordnet as wn\n",
        "from nltk import word_tokenize, pos_tag\n",
        "\n",
        "def nl_pos_to_wn_pos(tag):\n",
        "    tags = {\"N\": \"n\", \"J\": \"a\", \"R\": \"r\", \"V\": \"v\"}\n",
        "    if tag[0] in tags.keys():\n",
        "        return tags[tag[0]]\n",
        "    return None\n",
        "\n",
        "\n",
        "def to_synsets(w, tag):\n",
        "    wn_tag = nl_pos_to_wn_pos(tag)\n",
        "    if wn_tag is None:\n",
        "        return None\n",
        "    try:\n",
        "        return wn.synsets(w, wn_tag)[0]\n",
        "    except:\n",
        "        return None\n",
        "\n",
        "  \n",
        "\n",
        "def get_similarity(doc1, doc2, threshold=0.6):\n",
        "    d1 = pos_tag(word_tokenize(doc1))\n",
        "    d2 = pos_tag(word_tokenize(doc2))\n",
        "    synsets1 = [to_synsets(*p) for p in d1 if to_synsets(*p)]\n",
        "    synsets2 = [to_synsets(*p) for p in d2 if to_synsets(*p)]\n",
        "\n",
        "    score, count = 0.0, 0\n",
        "    for synset in synsets1:\n",
        "        best_score = max([synset.path_similarity(ss) for ss in synsets2 if synset and ss])\n",
        "        # print(best_score)\n",
        "        if best_score is not None:\n",
        "            score += best_score\n",
        "            count += 1\n",
        "    score /= count\n",
        "    similar_score = threshold\n",
        "    if score > similar_score:\n",
        "        return \"similar\"\n",
        "    return \"disimilar\""
      ]
    },
    {
      "cell_type": "code",
      "execution_count": 3,
      "metadata": {
        "colab": {
          "base_uri": "https://localhost:8080/"
        },
        "id": "IfFBPJ-utBrb",
        "outputId": "a3e04795-379f-47b4-f553-32c1ca56c858"
      },
      "outputs": [
        {
          "name": "stdout",
          "output_type": "stream",
          "text": [
            "similar\n"
          ]
        }
      ],
      "source": [
        "doc1= \"said is a beetter guy and me\"\n",
        "\n",
        "doc2=\"abdelilah is good guy\"\n",
        "\n",
        "\n",
        "print(get_similarity(doc1, doc2))"
      ]
    }
  ],
  "metadata": {
    "colab": {
      "provenance": []
    },
    "kernelspec": {
      "display_name": "Python 3",
      "name": "python3"
    },
    "language_info": {
      "codemirror_mode": {
        "name": "ipython",
        "version": 3
      },
      "file_extension": ".py",
      "mimetype": "text/x-python",
      "name": "python",
      "nbconvert_exporter": "python",
      "pygments_lexer": "ipython3",
      "version": "3.7.9"
    }
  },
  "nbformat": 4,
  "nbformat_minor": 0
}
